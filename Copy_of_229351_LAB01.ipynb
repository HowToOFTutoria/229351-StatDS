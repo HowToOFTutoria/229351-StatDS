{
  "cells": [
    {
      "cell_type": "markdown",
      "metadata": {
        "id": "view-in-github",
        "colab_type": "text"
      },
      "source": [
        "<a href=\"https://colab.research.google.com/github/HowToOFTutoria/229351-StatDS/blob/main/Copy_of_229351_LAB01.ipynb\" target=\"_parent\"><img src=\"https://colab.research.google.com/assets/colab-badge.svg\" alt=\"Open In Colab\"/></a>"
      ]
    },
    {
      "cell_type": "markdown",
      "metadata": {
        "id": "rUWDxJYaXbGS"
      },
      "source": [
        "ปฏิบัติการครั้งที่ 1 กระบวนวิชา 229351 Statistical Learning for Data Science\n",
        "\n",
        "คำชี้แจง\n",
        "\n",
        "1. ให้เริ่มทำปฏิบัติการจาก colab notebook ที่กำหนดให้ **เมื่อเสร็จแล้วให้ทำการ share** จากนั้นส่ง link มาใน mango canvas\n",
        "\n",
        "ในขั้นตอนแรก ขอให้ download ไฟล์ที่\n",
        "\n",
        "http://donlapark.pages.dev/229351/data/housing.csv"
      ]
    },
    {
      "cell_type": "code",
      "execution_count": null,
      "metadata": {
        "id": "SSRREm_DdrHg",
        "collapsed": true
      },
      "outputs": [],
      "source": [
        "import pandas as pd #dataframes\n",
        "import numpy as np #matrices\n",
        "import matplotlib.pyplot as plt #for plotting\n",
        "\n",
        "%matplotlib inline\n",
        "\n",
        "!wget http://donlapark.pages.dev/229351/data/housing.csv\n",
        "\n",
        "housing = pd.read_csv(\"housing.csv\")\n",
        "\n",
        "housing.head(10)"
      ]
    },
    {
      "cell_type": "markdown",
      "metadata": {
        "id": "upzoFs-mK5ev"
      },
      "source": [
        "## Basic data exploration"
      ]
    },
    {
      "cell_type": "code",
      "execution_count": null,
      "metadata": {
        "id": "49GCMl_wHpDl",
        "collapsed": true
      },
      "outputs": [],
      "source": [
        "housing.shape"
      ]
    },
    {
      "cell_type": "code",
      "execution_count": null,
      "metadata": {
        "id": "Hd74qbAaeR0f"
      },
      "outputs": [],
      "source": [
        "housing.info()"
      ]
    },
    {
      "cell_type": "markdown",
      "metadata": {
        "id": "ahBik4dxLHHh"
      },
      "source": [
        "Which variable has missing data?"
      ]
    },
    {
      "cell_type": "code",
      "execution_count": 4,
      "metadata": {
        "id": "1mG0VsHSHdSU"
      },
      "outputs": [],
      "source": [
        "housing = housing.dropna()"
      ]
    },
    {
      "cell_type": "code",
      "execution_count": null,
      "metadata": {
        "id": "WtgbcIp9KU6w"
      },
      "outputs": [],
      "source": [
        "housing.info()"
      ]
    },
    {
      "cell_type": "code",
      "execution_count": null,
      "metadata": {
        "id": "NQ5Y-rARisPo"
      },
      "outputs": [],
      "source": [
        "housing.describe()"
      ]
    },
    {
      "cell_type": "markdown",
      "metadata": {
        "id": "QvqbJODGOt4g"
      },
      "source": [
        "## Exercise 1\n",
        "\n",
        "1. Download ไฟล์ข้อมูลที่\n",
        "  http://donlapark.pages.dev/229351/data/Advertising.csv\n",
        "  ซึ่งเป็นข้อมูลของผลการขายสินค้าอย่างหนึ่ง (Sales) กับการโฆษณาผ่านทาง TV, Radio, Newspaper\n",
        "2. สร้าง dataframe ชื่อว่า **Ads** โดยใช้ข้อมูลชุดนี้\n",
        "3. ดูข้อมูล 5 แถวแรกของ `Ads`\n",
        "4. ตรวจสอบว่ามีข้อมูลที่หายไปหรือไม่\n",
        "5. แสดงค่าสถิติพรรณนา (Descriptive statistics) ของตัวแปรต่างๆ"
      ]
    },
    {
      "cell_type": "code",
      "execution_count": null,
      "metadata": {
        "id": "D3AiDwqorxd-"
      },
      "outputs": [],
      "source": [
        "# code here\n",
        "!wget  http://donlapark.pages.dev/229351/data/Advertising.csv\n",
        "Ads = pd.read_csv(\"Advertising.csv\")\n",
        "Ads"
      ]
    },
    {
      "cell_type": "code",
      "source": [
        "Ads.head(5)"
      ],
      "metadata": {
        "id": "msUw0Yo5KO4q"
      },
      "execution_count": null,
      "outputs": []
    },
    {
      "cell_type": "code",
      "source": [
        "Ads.info()\n",
        "tempAds = Ads.dropna()\n",
        "tempAds.info()"
      ],
      "metadata": {
        "id": "hZZSpik1Kv3C"
      },
      "execution_count": null,
      "outputs": []
    },
    {
      "cell_type": "code",
      "source": [
        "Ads.describe()"
      ],
      "metadata": {
        "id": "Qh6wnf4dL48q"
      },
      "execution_count": null,
      "outputs": []
    },
    {
      "cell_type": "markdown",
      "metadata": {
        "id": "BGRf5Q4lrUx7"
      },
      "source": [
        "Your answers here:"
      ]
    },
    {
      "cell_type": "markdown",
      "metadata": {
        "id": "SVybM6hDK_EZ"
      },
      "source": [
        "## Calling, indexing & modifying dataframes"
      ]
    },
    {
      "cell_type": "code",
      "execution_count": null,
      "metadata": {
        "id": "nXy5ao6OMRZQ",
        "collapsed": true
      },
      "outputs": [],
      "source": [
        "# calling a column\n",
        "\n",
        "housing['ocean_proximity']"
      ]
    },
    {
      "cell_type": "markdown",
      "metadata": {
        "id": "VAbEDThTMqQm"
      },
      "source": [
        "`ocean_proximity` is categorical. Let's count its values."
      ]
    },
    {
      "cell_type": "code",
      "execution_count": null,
      "metadata": {
        "id": "8gwOWxrlMmGx",
        "collapsed": true
      },
      "outputs": [],
      "source": [
        "housing[\"ocean_proximity\"].value_counts()"
      ]
    },
    {
      "cell_type": "markdown",
      "metadata": {
        "id": "cKBdn6GuX-ts"
      },
      "source": [
        "## Basic statistics of a variable"
      ]
    },
    {
      "cell_type": "code",
      "execution_count": null,
      "metadata": {
        "id": "XgNQ-7G0XnKU",
        "collapsed": true
      },
      "outputs": [],
      "source": [
        "print(\"Mean: \",housing[\"total_rooms\"].mean())\n",
        "print(\"Standard deviation: \",housing[\"total_rooms\"].std())\n",
        "print(\"Maximum: \",housing[\"total_rooms\"].max())\n",
        "print(\"Minimum: \",housing[\"total_rooms\"].min())"
      ]
    },
    {
      "cell_type": "code",
      "execution_count": null,
      "metadata": {
        "id": "Xa8XxjnrNuN-",
        "collapsed": true
      },
      "outputs": [],
      "source": [
        "housing[[\"longitude\", \"latitude\", \"housing_median_age\"]]"
      ]
    },
    {
      "cell_type": "code",
      "execution_count": null,
      "metadata": {
        "id": "DY1s18C5M6mp",
        "collapsed": true,
        "outputId": "8c28197e-0ce8-4903-a896-82bbb6c0861c",
        "colab": {
          "base_uri": "https://localhost:8080/",
          "height": 398
        }
      },
      "outputs": [
        {
          "output_type": "execute_result",
          "data": {
            "text/plain": [
              "longitude              -122.23\n",
              "latitude                 37.88\n",
              "housing_median_age        41.0\n",
              "total_rooms              880.0\n",
              "total_bedrooms           129.0\n",
              "population               322.0\n",
              "households               126.0\n",
              "median_income           8.3252\n",
              "median_house_value    452600.0\n",
              "ocean_proximity       NEAR BAY\n",
              "Name: 0, dtype: object"
            ],
            "text/html": [
              "<div>\n",
              "<style scoped>\n",
              "    .dataframe tbody tr th:only-of-type {\n",
              "        vertical-align: middle;\n",
              "    }\n",
              "\n",
              "    .dataframe tbody tr th {\n",
              "        vertical-align: top;\n",
              "    }\n",
              "\n",
              "    .dataframe thead th {\n",
              "        text-align: right;\n",
              "    }\n",
              "</style>\n",
              "<table border=\"1\" class=\"dataframe\">\n",
              "  <thead>\n",
              "    <tr style=\"text-align: right;\">\n",
              "      <th></th>\n",
              "      <th>0</th>\n",
              "    </tr>\n",
              "  </thead>\n",
              "  <tbody>\n",
              "    <tr>\n",
              "      <th>longitude</th>\n",
              "      <td>-122.23</td>\n",
              "    </tr>\n",
              "    <tr>\n",
              "      <th>latitude</th>\n",
              "      <td>37.88</td>\n",
              "    </tr>\n",
              "    <tr>\n",
              "      <th>housing_median_age</th>\n",
              "      <td>41.0</td>\n",
              "    </tr>\n",
              "    <tr>\n",
              "      <th>total_rooms</th>\n",
              "      <td>880.0</td>\n",
              "    </tr>\n",
              "    <tr>\n",
              "      <th>total_bedrooms</th>\n",
              "      <td>129.0</td>\n",
              "    </tr>\n",
              "    <tr>\n",
              "      <th>population</th>\n",
              "      <td>322.0</td>\n",
              "    </tr>\n",
              "    <tr>\n",
              "      <th>households</th>\n",
              "      <td>126.0</td>\n",
              "    </tr>\n",
              "    <tr>\n",
              "      <th>median_income</th>\n",
              "      <td>8.3252</td>\n",
              "    </tr>\n",
              "    <tr>\n",
              "      <th>median_house_value</th>\n",
              "      <td>452600.0</td>\n",
              "    </tr>\n",
              "    <tr>\n",
              "      <th>ocean_proximity</th>\n",
              "      <td>NEAR BAY</td>\n",
              "    </tr>\n",
              "  </tbody>\n",
              "</table>\n",
              "</div><br><label><b>dtype:</b> object</label>"
            ]
          },
          "metadata": {},
          "execution_count": 21
        }
      ],
      "source": [
        "housing.loc[0]"
      ]
    },
    {
      "cell_type": "markdown",
      "metadata": {
        "id": "RsgifpIhRsZ9"
      },
      "source": [
        "## Extracting a subset of dataframe"
      ]
    },
    {
      "cell_type": "code",
      "execution_count": null,
      "metadata": {
        "id": "XxZdjpiBPS4u"
      },
      "outputs": [],
      "source": [
        "housing.loc[1:3, [\"longitude\",\"latitude\"]]"
      ]
    },
    {
      "cell_type": "code",
      "execution_count": null,
      "metadata": {
        "id": "kFJS1xTiSjP0"
      },
      "outputs": [],
      "source": [
        "housing.iloc[2:5,:]"
      ]
    },
    {
      "cell_type": "markdown",
      "metadata": {
        "id": "YjEKjsWRTCk9"
      },
      "source": [
        "## Selecting rows based on conditions"
      ]
    },
    {
      "cell_type": "code",
      "execution_count": null,
      "metadata": {
        "id": "eG0ICaDbTGeJ",
        "collapsed": true
      },
      "outputs": [],
      "source": [
        "housing[housing['latitude']>=40]"
      ]
    },
    {
      "cell_type": "code",
      "execution_count": null,
      "metadata": {
        "id": "N-HGxUqbUMS4"
      },
      "outputs": [],
      "source": [
        "housing[(housing['longitude']>-122) & (housing['latitude']>=40)]"
      ]
    },
    {
      "cell_type": "markdown",
      "metadata": {
        "id": "pivXOYE1Uhol"
      },
      "source": [
        "## Exercise 2\n",
        "\n",
        "ในข้อต่อไปนี้ ให้นับแถวและคอลัมน์เริ่มจาก 0\n",
        "1. แสดงค่าสูงสุดของข้อมูลที่อยู่ในแถวที่ 200-400 ของตัวแปร `total_bedrooms`\n",
        "2. แสดง 3 คอลัมน์สุดท้ายของพื้นที่ที่มีจำนวนห้องนอน (`total_bedrooms`) มากกว่า 900 ห้อง"
      ]
    },
    {
      "cell_type": "code",
      "execution_count": null,
      "metadata": {
        "id": "vGS_V4dW1wli"
      },
      "outputs": [],
      "source": [
        "# code here\n",
        "tOneHouse = housing.iloc[200:400]\n",
        "tOneHouse[\"total_bedrooms\"].max()"
      ]
    },
    {
      "cell_type": "code",
      "source": [
        "tTwoHouse = housing[(housing[\"total_bedrooms\"]>900)]\n",
        "tTwoHouse.iloc[: , -3:]"
      ],
      "metadata": {
        "id": "ObYx2ZpXOP9p"
      },
      "execution_count": null,
      "outputs": []
    },
    {
      "cell_type": "markdown",
      "metadata": {
        "id": "8DdzR2tNxwNS"
      },
      "source": [
        "## Plotting"
      ]
    },
    {
      "cell_type": "code",
      "execution_count": null,
      "metadata": {
        "id": "MDLNDwW-izL-",
        "collapsed": true
      },
      "outputs": [],
      "source": [
        "housing.hist(bins=20, figsize=(15,15))\n",
        "plt.show()"
      ]
    },
    {
      "cell_type": "code",
      "execution_count": null,
      "metadata": {
        "id": "lgRyhvhmYe-Z",
        "collapsed": true
      },
      "outputs": [],
      "source": [
        "housing.head(3)"
      ]
    },
    {
      "cell_type": "code",
      "execution_count": null,
      "metadata": {
        "id": "MvR4go7gkjg3",
        "collapsed": true
      },
      "outputs": [],
      "source": [
        "housing.plot.scatter(x=\"longitude\", y=\"latitude\");"
      ]
    },
    {
      "cell_type": "code",
      "execution_count": null,
      "metadata": {
        "id": "_6q-QA-fksSy",
        "collapsed": true
      },
      "outputs": [],
      "source": [
        "housing.plot.scatter(x=\"longitude\", y=\"latitude\", alpha=0.1)"
      ]
    },
    {
      "cell_type": "code",
      "execution_count": null,
      "metadata": {
        "id": "_CA6a2dAk31N"
      },
      "outputs": [],
      "source": [
        "corr_matrix = housing.corr()\n",
        "\n",
        "corr_matrix"
      ]
    },
    {
      "cell_type": "markdown",
      "metadata": {
        "id": "UmU2dWrduOet"
      },
      "source": [
        "### Grouping\n",
        "\n",
        "พิจารณา Anscombe dataset ข้างล่างนี้"
      ]
    },
    {
      "cell_type": "code",
      "execution_count": 25,
      "metadata": {
        "id": "ZyUH-OJEgKAx"
      },
      "outputs": [],
      "source": [
        "import seaborn as sns\n",
        "\n",
        "df = sns.load_dataset('anscombe')"
      ]
    },
    {
      "cell_type": "code",
      "execution_count": null,
      "metadata": {
        "id": "w1hvYsS9c7aV"
      },
      "outputs": [],
      "source": [
        "df"
      ]
    },
    {
      "cell_type": "code",
      "execution_count": 27,
      "metadata": {
        "id": "fMEFyua4dygD"
      },
      "outputs": [],
      "source": [
        "groups = df.groupby('dataset')"
      ]
    },
    {
      "cell_type": "code",
      "execution_count": null,
      "metadata": {
        "id": "w3efL1Fbc_yx"
      },
      "outputs": [],
      "source": [
        "groups.get_group('I')"
      ]
    },
    {
      "cell_type": "code",
      "execution_count": null,
      "metadata": {
        "id": "GjwYjL0xetEV"
      },
      "outputs": [],
      "source": [
        "groups.max()"
      ]
    },
    {
      "cell_type": "markdown",
      "metadata": {
        "id": "31VEO9hkcmhK"
      },
      "source": [
        "## Exercise 3\n",
        "\n",
        "1. คำนวณค่า mean, standard deviation และ correlation matrix ของแต่ละกลุ่ม\n",
        "2. สร้าง scatter plot ของแต่ละกลุ่มด้วย `groups.plot.scatter(...)`\n",
        "3. จากข้อ 1 และข้อ 2 จงบอกว่าการศึกษาค่า summary statistics (mean, s.d., correlation) อย่างเดียวเพียงพอกับการศึกษาข้อมูลชุดหนึ่งหรือไม่ เพราะเหตุใด"
      ]
    },
    {
      "cell_type": "code",
      "source": [
        "groups.mean()"
      ],
      "metadata": {
        "id": "qc-C4HkGROWR"
      },
      "execution_count": null,
      "outputs": []
    },
    {
      "cell_type": "code",
      "source": [
        "groups.std()"
      ],
      "metadata": {
        "id": "qY0xZVQiTg8w"
      },
      "execution_count": null,
      "outputs": []
    },
    {
      "cell_type": "code",
      "source": [
        "groups.corr()"
      ],
      "metadata": {
        "id": "AigSf1deTk2I"
      },
      "execution_count": null,
      "outputs": []
    },
    {
      "cell_type": "code",
      "source": [
        "groups.plot.scatter(x=\"x\",y=\"y\")"
      ],
      "metadata": {
        "id": "mjnWh6m-Twog"
      },
      "execution_count": null,
      "outputs": []
    },
    {
      "cell_type": "markdown",
      "source": [
        "summary statistic ไม่เพียงพอต่อการศึกษาช้อมูลชุดหนึ่ง เพราะ stat ที่คำนวณออกมาได้มีค่าตรง หรือใกล้เคียงกันมาก แต่การจัดเรียงจุดข้อมูลในการพลอตไม่มีความใกล้เคียงกันเลย"
      ],
      "metadata": {
        "id": "CZMbU2TGUQEY"
      }
    },
    {
      "cell_type": "markdown",
      "metadata": {
        "id": "xCBZSLEJgSu_"
      },
      "source": []
    }
  ],
  "metadata": {
    "colab": {
      "provenance": [],
      "include_colab_link": true
    },
    "kernelspec": {
      "display_name": "Python 3 (ipykernel)",
      "language": "python",
      "name": "python3"
    },
    "language_info": {
      "codemirror_mode": {
        "name": "ipython",
        "version": 3
      },
      "file_extension": ".py",
      "mimetype": "text/x-python",
      "name": "python",
      "nbconvert_exporter": "python",
      "pygments_lexer": "ipython3",
      "version": "3.10.12"
    }
  },
  "nbformat": 4,
  "nbformat_minor": 0
}